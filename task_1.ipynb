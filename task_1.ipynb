{
 "cells": [
  {
   "cell_type": "markdown",
   "metadata": {},
   "source": [
    "<img src=\"task1.jpg\" alt=\"drawing\" width=\"500\"/>"
   ]
  },
  {
   "cell_type": "code",
   "execution_count": 1,
   "metadata": {},
   "outputs": [],
   "source": [
    "from scipy.integrate import dblquad, quad\n",
    "import numpy as np"
   ]
  },
  {
   "cell_type": "code",
   "execution_count": null,
   "metadata": {},
   "outputs": [
    {
     "data": {
      "text/plain": [
       "(7.5, 86.08111134115161)"
      ]
     },
     "execution_count": 2,
     "metadata": {},
     "output_type": "execute_result"
    }
   ],
   "source": [
    "# Для первого интеграла от -2 до 3 (2 - x) dx\n",
    "# первым указано найденное значение интеграла, а на втором месте - допустимая погрешность интегрирования\n",
    "integral_1, error_1 = quad(lambda x: 2 - x, \n",
    "                           -2, 3 ) # пределы интегрирования\n",
    "\n",
    "# Для второго двойного интеграла\n",
    "# dblquad для вычисления двойного интеграла\n",
    "\n",
    "integral_2, error_2 = dblquad(\n",
    "    lambda x, y: np.exp(x / 100) * np.exp(y / 1000), # лямбда-выражение, которое задает функцию f(x, y)\n",
    "    1, 10, # Пределы внешнего (y) интеграла\n",
    "    lambda x: 1, lambda x: 10) # Пределы внутреннего(x) интеграла\n",
    "\n",
    "integral_1, integral_2\n",
    "\n"
   ]
  }
 ],
 "metadata": {
  "kernelspec": {
   "display_name": ".venv",
   "language": "python",
   "name": "python3"
  },
  "language_info": {
   "codemirror_mode": {
    "name": "ipython",
    "version": 3
   },
   "file_extension": ".py",
   "mimetype": "text/x-python",
   "name": "python",
   "nbconvert_exporter": "python",
   "pygments_lexer": "ipython3",
   "version": "3.10.11"
  }
 },
 "nbformat": 4,
 "nbformat_minor": 2
}
