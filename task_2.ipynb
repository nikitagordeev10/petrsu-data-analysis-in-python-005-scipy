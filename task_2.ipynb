{
 "cells": [
  {
   "cell_type": "markdown",
   "metadata": {},
   "source": [
    "<img src=\"task2.jpg\" alt=\"drawing\" width=\"800\"/>"
   ]
  },
  {
   "cell_type": "code",
   "execution_count": 6,
   "metadata": {},
   "outputs": [],
   "source": [
    "import scipy.integrate as intg\n",
    "import scipy.interpolate as interp\n",
    "import scipy.stats as st\n",
    "from numpy import sin\n",
    "import numpy as np\n",
    "from scipy.integrate import solve_ivp\n",
    "import matplotlib.pyplot as plt"
   ]
  },
  {
   "cell_type": "code",
   "execution_count": null,
   "metadata": {},
   "outputs": [
    {
     "data": {
      "text/plain": [
       "np.float64(2.5)"
      ]
     },
     "execution_count": 7,
     "metadata": {},
     "output_type": "execute_result"
    }
   ],
   "source": [
    "# Определяем функцию для дифференциального уравнения y'(x) = x + 1\n",
    "def dydx(x, y):\n",
    "    return x + 1\n",
    "\n",
    "# Начальные условия\n",
    "x0, y0 = 0, 1  # y(0) = 1\n",
    "x_end = 1      # Конечная точка интервала\n",
    "\n",
    "# Решение ODE с использованием solve_ivp\n",
    "# https://docs.scipy.org/doc/scipy/reference/generated/scipy.integrate.solve_ivp.html\n",
    "solution = solve_ivp(\n",
    "    dydx,                 # Функция для дифференциального уравнения\n",
    "    [x0, x_end],          # Интервал интегрирования\n",
    "    [y0],                 # Начальное условие\n",
    "    method='RK45',        # Метод Рунге-Кутты (адаптивный шаг)\n",
    "    atol=0.01,            # Абсолютная погрешность\n",
    "    rtol=0.01             # Относительная погрешность\n",
    ")\n",
    "\n",
    "# Значение y(1)\n",
    "y_at_1 = solution.y[0][-1]\n",
    "y_at_1"
   ]
  }
 ],
 "metadata": {
  "kernelspec": {
   "display_name": ".venv",
   "language": "python",
   "name": "python3"
  },
  "language_info": {
   "codemirror_mode": {
    "name": "ipython",
    "version": 3
   },
   "file_extension": ".py",
   "mimetype": "text/x-python",
   "name": "python",
   "nbconvert_exporter": "python",
   "pygments_lexer": "ipython3",
   "version": "3.10.11"
  }
 },
 "nbformat": 4,
 "nbformat_minor": 2
}
